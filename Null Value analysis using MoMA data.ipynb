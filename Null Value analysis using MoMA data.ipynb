{
 "cells": [
  {
   "cell_type": "markdown",
   "metadata": {},
   "source": [
    "# Libraries"
   ]
  },
  {
   "cell_type": "code",
   "execution_count": 1,
   "metadata": {
    "ExecuteTime": {
     "end_time": "2021-06-14T20:00:09.299008Z",
     "start_time": "2021-06-14T20:00:08.983703Z"
    }
   },
   "outputs": [],
   "source": [
    "import pandas as pd\n",
    "import numpy as np"
   ]
  },
  {
   "cell_type": "markdown",
   "metadata": {},
   "source": [
    "# Load MoMA data\n",
    "Using Museum of Modern Art data. \n",
    "\n",
    "Link to access data can be found [here](https://github.com/MuseumofModernArt/collection)."
   ]
  },
  {
   "cell_type": "code",
   "execution_count": 11,
   "metadata": {
    "ExecuteTime": {
     "end_time": "2021-06-14T20:02:56.586919Z",
     "start_time": "2021-06-14T20:02:55.655739Z"
    }
   },
   "outputs": [],
   "source": [
    "moma_df = pd.read_csv('Artworks.csv')"
   ]
  },
  {
   "cell_type": "code",
   "execution_count": 13,
   "metadata": {
    "ExecuteTime": {
     "end_time": "2021-06-14T20:03:07.819991Z",
     "start_time": "2021-06-14T20:03:07.714953Z"
    }
   },
   "outputs": [
    {
     "name": "stdout",
     "output_type": "stream",
     "text": [
      "<class 'pandas.core.frame.DataFrame'>\n",
      "RangeIndex: 138151 entries, 0 to 138150\n",
      "Data columns (total 29 columns):\n",
      " #   Column              Non-Null Count   Dtype  \n",
      "---  ------              --------------   -----  \n",
      " 0   Title               138112 non-null  object \n",
      " 1   Artist              136868 non-null  object \n",
      " 2   ConstituentID       136868 non-null  object \n",
      " 3   ArtistBio           132226 non-null  object \n",
      " 4   Nationality         136868 non-null  object \n",
      " 5   BeginDate           136868 non-null  object \n",
      " 6   EndDate             136868 non-null  object \n",
      " 7   Gender              136868 non-null  object \n",
      " 8   Date                135949 non-null  object \n",
      " 9   Medium              128450 non-null  object \n",
      " 10  Dimensions          128397 non-null  object \n",
      " 11  CreditLine          135714 non-null  object \n",
      " 12  AccessionNumber     138151 non-null  object \n",
      " 13  Classification      138151 non-null  object \n",
      " 14  Department          138151 non-null  object \n",
      " 15  DateAcquired        131026 non-null  object \n",
      " 16  Cataloged           138151 non-null  object \n",
      " 17  ObjectID            138151 non-null  int64  \n",
      " 18  URL                 87184 non-null   object \n",
      " 19  ThumbnailURL        76409 non-null   object \n",
      " 20  Circumference (cm)  10 non-null      float64\n",
      " 21  Depth (cm)          13839 non-null   float64\n",
      " 22  Diameter (cm)       1462 non-null    float64\n",
      " 23  Height (cm)         120355 non-null  float64\n",
      " 24  Length (cm)         742 non-null     float64\n",
      " 25  Weight (kg)         290 non-null     float64\n",
      " 26  Width (cm)          119434 non-null  float64\n",
      " 27  Seat Height (cm)    0 non-null       float64\n",
      " 28  Duration (sec.)     2140 non-null    float64\n",
      "dtypes: float64(9), int64(1), object(19)\n",
      "memory usage: 30.6+ MB\n"
     ]
    }
   ],
   "source": [
    "moma_df.info()"
   ]
  },
  {
   "cell_type": "code",
   "execution_count": 15,
   "metadata": {
    "ExecuteTime": {
     "end_time": "2021-06-14T20:25:19.172731Z",
     "start_time": "2021-06-14T20:25:19.151459Z"
    }
   },
   "outputs": [
    {
     "data": {
      "text/html": [
       "<div>\n",
       "<style scoped>\n",
       "    .dataframe tbody tr th:only-of-type {\n",
       "        vertical-align: middle;\n",
       "    }\n",
       "\n",
       "    .dataframe tbody tr th {\n",
       "        vertical-align: top;\n",
       "    }\n",
       "\n",
       "    .dataframe thead th {\n",
       "        text-align: right;\n",
       "    }\n",
       "</style>\n",
       "<table border=\"1\" class=\"dataframe\">\n",
       "  <thead>\n",
       "    <tr style=\"text-align: right;\">\n",
       "      <th></th>\n",
       "      <th>Title</th>\n",
       "      <th>Artist</th>\n",
       "      <th>ConstituentID</th>\n",
       "      <th>ArtistBio</th>\n",
       "      <th>Nationality</th>\n",
       "      <th>BeginDate</th>\n",
       "      <th>EndDate</th>\n",
       "      <th>Gender</th>\n",
       "      <th>Date</th>\n",
       "      <th>Medium</th>\n",
       "      <th>...</th>\n",
       "      <th>ThumbnailURL</th>\n",
       "      <th>Circumference (cm)</th>\n",
       "      <th>Depth (cm)</th>\n",
       "      <th>Diameter (cm)</th>\n",
       "      <th>Height (cm)</th>\n",
       "      <th>Length (cm)</th>\n",
       "      <th>Weight (kg)</th>\n",
       "      <th>Width (cm)</th>\n",
       "      <th>Seat Height (cm)</th>\n",
       "      <th>Duration (sec.)</th>\n",
       "    </tr>\n",
       "  </thead>\n",
       "  <tbody>\n",
       "    <tr>\n",
       "      <th>0</th>\n",
       "      <td>Ferdinandsbrücke Project, Vienna, Austria (Ele...</td>\n",
       "      <td>Otto Wagner</td>\n",
       "      <td>6210</td>\n",
       "      <td>(Austrian, 1841–1918)</td>\n",
       "      <td>(Austrian)</td>\n",
       "      <td>(1841)</td>\n",
       "      <td>(1918)</td>\n",
       "      <td>(Male)</td>\n",
       "      <td>1896</td>\n",
       "      <td>Ink and cut-and-pasted painted pages on paper</td>\n",
       "      <td>...</td>\n",
       "      <td>http://www.moma.org/media/W1siZiIsIjU5NDA1Il0s...</td>\n",
       "      <td>NaN</td>\n",
       "      <td>NaN</td>\n",
       "      <td>NaN</td>\n",
       "      <td>48.6000</td>\n",
       "      <td>NaN</td>\n",
       "      <td>NaN</td>\n",
       "      <td>168.9000</td>\n",
       "      <td>NaN</td>\n",
       "      <td>NaN</td>\n",
       "    </tr>\n",
       "    <tr>\n",
       "      <th>1</th>\n",
       "      <td>City of Music, National Superior Conservatory ...</td>\n",
       "      <td>Christian de Portzamparc</td>\n",
       "      <td>7470</td>\n",
       "      <td>(French, born 1944)</td>\n",
       "      <td>(French)</td>\n",
       "      <td>(1944)</td>\n",
       "      <td>(0)</td>\n",
       "      <td>(Male)</td>\n",
       "      <td>1987</td>\n",
       "      <td>Paint and colored pencil on print</td>\n",
       "      <td>...</td>\n",
       "      <td>http://www.moma.org/media/W1siZiIsIjk3Il0sWyJw...</td>\n",
       "      <td>NaN</td>\n",
       "      <td>NaN</td>\n",
       "      <td>NaN</td>\n",
       "      <td>40.6401</td>\n",
       "      <td>NaN</td>\n",
       "      <td>NaN</td>\n",
       "      <td>29.8451</td>\n",
       "      <td>NaN</td>\n",
       "      <td>NaN</td>\n",
       "    </tr>\n",
       "    <tr>\n",
       "      <th>2</th>\n",
       "      <td>Villa near Vienna Project, Outside Vienna, Aus...</td>\n",
       "      <td>Emil Hoppe</td>\n",
       "      <td>7605</td>\n",
       "      <td>(Austrian, 1876–1957)</td>\n",
       "      <td>(Austrian)</td>\n",
       "      <td>(1876)</td>\n",
       "      <td>(1957)</td>\n",
       "      <td>(Male)</td>\n",
       "      <td>1903</td>\n",
       "      <td>Graphite, pen, color pencil, ink, and gouache ...</td>\n",
       "      <td>...</td>\n",
       "      <td>http://www.moma.org/media/W1siZiIsIjk4Il0sWyJw...</td>\n",
       "      <td>NaN</td>\n",
       "      <td>NaN</td>\n",
       "      <td>NaN</td>\n",
       "      <td>34.3000</td>\n",
       "      <td>NaN</td>\n",
       "      <td>NaN</td>\n",
       "      <td>31.8000</td>\n",
       "      <td>NaN</td>\n",
       "      <td>NaN</td>\n",
       "    </tr>\n",
       "    <tr>\n",
       "      <th>3</th>\n",
       "      <td>The Manhattan Transcripts Project, New York, N...</td>\n",
       "      <td>Bernard Tschumi</td>\n",
       "      <td>7056</td>\n",
       "      <td>(French and Swiss, born Switzerland 1944)</td>\n",
       "      <td>()</td>\n",
       "      <td>(1944)</td>\n",
       "      <td>(0)</td>\n",
       "      <td>(Male)</td>\n",
       "      <td>1980</td>\n",
       "      <td>Photographic reproduction with colored synthet...</td>\n",
       "      <td>...</td>\n",
       "      <td>http://www.moma.org/media/W1siZiIsIjEyNCJdLFsi...</td>\n",
       "      <td>NaN</td>\n",
       "      <td>NaN</td>\n",
       "      <td>NaN</td>\n",
       "      <td>50.8000</td>\n",
       "      <td>NaN</td>\n",
       "      <td>NaN</td>\n",
       "      <td>50.8000</td>\n",
       "      <td>NaN</td>\n",
       "      <td>NaN</td>\n",
       "    </tr>\n",
       "    <tr>\n",
       "      <th>4</th>\n",
       "      <td>Villa, project, outside Vienna, Austria, Exter...</td>\n",
       "      <td>Emil Hoppe</td>\n",
       "      <td>7605</td>\n",
       "      <td>(Austrian, 1876–1957)</td>\n",
       "      <td>(Austrian)</td>\n",
       "      <td>(1876)</td>\n",
       "      <td>(1957)</td>\n",
       "      <td>(Male)</td>\n",
       "      <td>1903</td>\n",
       "      <td>Graphite, color pencil, ink, and gouache on tr...</td>\n",
       "      <td>...</td>\n",
       "      <td>http://www.moma.org/media/W1siZiIsIjEyNiJdLFsi...</td>\n",
       "      <td>NaN</td>\n",
       "      <td>NaN</td>\n",
       "      <td>NaN</td>\n",
       "      <td>38.4000</td>\n",
       "      <td>NaN</td>\n",
       "      <td>NaN</td>\n",
       "      <td>19.1000</td>\n",
       "      <td>NaN</td>\n",
       "      <td>NaN</td>\n",
       "    </tr>\n",
       "  </tbody>\n",
       "</table>\n",
       "<p>5 rows × 29 columns</p>\n",
       "</div>"
      ],
      "text/plain": [
       "                                               Title  \\\n",
       "0  Ferdinandsbrücke Project, Vienna, Austria (Ele...   \n",
       "1  City of Music, National Superior Conservatory ...   \n",
       "2  Villa near Vienna Project, Outside Vienna, Aus...   \n",
       "3  The Manhattan Transcripts Project, New York, N...   \n",
       "4  Villa, project, outside Vienna, Austria, Exter...   \n",
       "\n",
       "                     Artist ConstituentID  \\\n",
       "0               Otto Wagner          6210   \n",
       "1  Christian de Portzamparc          7470   \n",
       "2                Emil Hoppe          7605   \n",
       "3           Bernard Tschumi          7056   \n",
       "4                Emil Hoppe          7605   \n",
       "\n",
       "                                   ArtistBio Nationality BeginDate EndDate  \\\n",
       "0                      (Austrian, 1841–1918)  (Austrian)    (1841)  (1918)   \n",
       "1                        (French, born 1944)    (French)    (1944)     (0)   \n",
       "2                      (Austrian, 1876–1957)  (Austrian)    (1876)  (1957)   \n",
       "3  (French and Swiss, born Switzerland 1944)          ()    (1944)     (0)   \n",
       "4                      (Austrian, 1876–1957)  (Austrian)    (1876)  (1957)   \n",
       "\n",
       "   Gender  Date                                             Medium  ...  \\\n",
       "0  (Male)  1896      Ink and cut-and-pasted painted pages on paper  ...   \n",
       "1  (Male)  1987                  Paint and colored pencil on print  ...   \n",
       "2  (Male)  1903  Graphite, pen, color pencil, ink, and gouache ...  ...   \n",
       "3  (Male)  1980  Photographic reproduction with colored synthet...  ...   \n",
       "4  (Male)  1903  Graphite, color pencil, ink, and gouache on tr...  ...   \n",
       "\n",
       "                                        ThumbnailURL Circumference (cm)  \\\n",
       "0  http://www.moma.org/media/W1siZiIsIjU5NDA1Il0s...                NaN   \n",
       "1  http://www.moma.org/media/W1siZiIsIjk3Il0sWyJw...                NaN   \n",
       "2  http://www.moma.org/media/W1siZiIsIjk4Il0sWyJw...                NaN   \n",
       "3  http://www.moma.org/media/W1siZiIsIjEyNCJdLFsi...                NaN   \n",
       "4  http://www.moma.org/media/W1siZiIsIjEyNiJdLFsi...                NaN   \n",
       "\n",
       "  Depth (cm) Diameter (cm) Height (cm) Length (cm) Weight (kg)  Width (cm)  \\\n",
       "0        NaN           NaN     48.6000         NaN         NaN    168.9000   \n",
       "1        NaN           NaN     40.6401         NaN         NaN     29.8451   \n",
       "2        NaN           NaN     34.3000         NaN         NaN     31.8000   \n",
       "3        NaN           NaN     50.8000         NaN         NaN     50.8000   \n",
       "4        NaN           NaN     38.4000         NaN         NaN     19.1000   \n",
       "\n",
       "  Seat Height (cm) Duration (sec.)  \n",
       "0              NaN             NaN  \n",
       "1              NaN             NaN  \n",
       "2              NaN             NaN  \n",
       "3              NaN             NaN  \n",
       "4              NaN             NaN  \n",
       "\n",
       "[5 rows x 29 columns]"
      ]
     },
     "execution_count": 15,
     "metadata": {},
     "output_type": "execute_result"
    }
   ],
   "source": [
    "moma_df.head()"
   ]
  },
  {
   "cell_type": "code",
   "execution_count": 16,
   "metadata": {
    "ExecuteTime": {
     "end_time": "2021-06-14T20:53:45.305150Z",
     "start_time": "2021-06-14T20:53:45.184497Z"
    }
   },
   "outputs": [
    {
     "data": {
      "text/plain": [
       "Title                     39\n",
       "Artist                  1283\n",
       "ConstituentID           1283\n",
       "ArtistBio               5925\n",
       "Nationality             1283\n",
       "BeginDate               1283\n",
       "EndDate                 1283\n",
       "Gender                  1283\n",
       "Date                    2202\n",
       "Medium                  9701\n",
       "Dimensions              9754\n",
       "CreditLine              2437\n",
       "AccessionNumber            0\n",
       "Classification             0\n",
       "Department                 0\n",
       "DateAcquired            7125\n",
       "Cataloged                  0\n",
       "ObjectID                   0\n",
       "URL                    50967\n",
       "ThumbnailURL           61742\n",
       "Circumference (cm)    138141\n",
       "Depth (cm)            124312\n",
       "Diameter (cm)         136689\n",
       "Height (cm)            17796\n",
       "Length (cm)           137409\n",
       "Weight (kg)           137861\n",
       "Width (cm)             18717\n",
       "Seat Height (cm)      138151\n",
       "Duration (sec.)       136011\n",
       "dtype: int64"
      ]
     },
     "execution_count": 16,
     "metadata": {},
     "output_type": "execute_result"
    }
   ],
   "source": [
    "moma_df.isna().sum()"
   ]
  },
  {
   "cell_type": "code",
   "execution_count": null,
   "metadata": {
    "ExecuteTime": {
     "end_time": "2021-06-14T20:54:37.937084Z",
     "start_time": "2021-06-14T20:54:37.765543Z"
    }
   },
   "outputs": [],
   "source": []
  },
  {
   "cell_type": "code",
   "execution_count": null,
   "metadata": {},
   "outputs": [],
   "source": []
  },
  {
   "cell_type": "code",
   "execution_count": null,
   "metadata": {},
   "outputs": [],
   "source": []
  },
  {
   "cell_type": "code",
   "execution_count": null,
   "metadata": {},
   "outputs": [],
   "source": []
  },
  {
   "cell_type": "code",
   "execution_count": null,
   "metadata": {},
   "outputs": [],
   "source": []
  },
  {
   "cell_type": "code",
   "execution_count": null,
   "metadata": {},
   "outputs": [],
   "source": []
  }
 ],
 "metadata": {
  "kernelspec": {
   "display_name": "Python 3",
   "language": "python",
   "name": "python3"
  },
  "language_info": {
   "codemirror_mode": {
    "name": "ipython",
    "version": 3
   },
   "file_extension": ".py",
   "mimetype": "text/x-python",
   "name": "python",
   "nbconvert_exporter": "python",
   "pygments_lexer": "ipython3",
   "version": "3.8.5"
  },
  "toc": {
   "base_numbering": 1,
   "nav_menu": {},
   "number_sections": true,
   "sideBar": true,
   "skip_h1_title": true,
   "title_cell": "Table of Contents",
   "title_sidebar": "Contents",
   "toc_cell": false,
   "toc_position": {},
   "toc_section_display": true,
   "toc_window_display": false
  },
  "varInspector": {
   "cols": {
    "lenName": 16,
    "lenType": 16,
    "lenVar": 40
   },
   "kernels_config": {
    "python": {
     "delete_cmd_postfix": "",
     "delete_cmd_prefix": "del ",
     "library": "var_list.py",
     "varRefreshCmd": "print(var_dic_list())"
    },
    "r": {
     "delete_cmd_postfix": ") ",
     "delete_cmd_prefix": "rm(",
     "library": "var_list.r",
     "varRefreshCmd": "cat(var_dic_list()) "
    }
   },
   "types_to_exclude": [
    "module",
    "function",
    "builtin_function_or_method",
    "instance",
    "_Feature"
   ],
   "window_display": false
  }
 },
 "nbformat": 4,
 "nbformat_minor": 4
}
